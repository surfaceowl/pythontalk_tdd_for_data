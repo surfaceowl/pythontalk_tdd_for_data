{
 "cells": [
  {
   "cell_type": "markdown",
   "metadata": {
    "slideshow": {
     "slide_type": "skip"
    },
    "toc": true
   },
   "source": [
    "<h1>Table of Contents<span class=\"tocSkip\"></span></h1>\n",
    "<div class=\"toc\"><ul class=\"toc-item\"><li><span><a href=\"#0---TDD-for-data-with-pytest\" data-toc-modified-id=\"0---TDD-for-data-with-pytest-1\">0 - TDD for data with pytest</a></span></li><li><span><a href=\"#Our-Objectives\" data-toc-modified-id=\"Our-Objectives-2\">Our Objectives</a></span><ul class=\"toc-item\"><li><ul class=\"toc-item\"><li><span><a href=\"#Why-TDD?\" data-toc-modified-id=\"Why-TDD?-2.0.1\">Why TDD?</a></span></li></ul></li></ul></li><li><span><a href=\"#About-me\" data-toc-modified-id=\"About-me-3\">About me</a></span><ul class=\"toc-item\"><li><ul class=\"toc-item\"><li><span><a href=\"#What-is-TDD\" data-toc-modified-id=\"What-is-TDD-3.0.1\">What is TDD</a></span></li><li><span><a href=\"#How-does-it-work?\" data-toc-modified-id=\"How-does-it-work?-3.0.2\">How does it work?</a></span></li><li><span><a href=\"#Why-TDD?\" data-toc-modified-id=\"Why-TDD?-3.0.3\">Why TDD?</a></span></li><li><span><a href=\"#Why-TDD-for-data?\" data-toc-modified-id=\"Why-TDD-for-data?-3.0.4\">Why TDD for data?</a></span></li></ul></li></ul></li><li><span><a href=\"#1--Relevant-Packages:--pytest-&amp;-datatest\" data-toc-modified-id=\"1--Relevant-Packages:--pytest-&amp;-datatest-4\">1- Relevant Packages:  pytest &amp; datatest</a></span></li><li><span><a href=\"#2--TDD-for-data-engineering\" data-toc-modified-id=\"2--TDD-for-data-engineering-5\">2- TDD for data engineering</a></span><ul class=\"toc-item\"><li><ul class=\"toc-item\"><li><span><a href=\"#datatest-deets\" data-toc-modified-id=\"datatest-deets-5.0.1\">datatest deets</a></span></li><li><span><a href=\"#Example-1---finding-urls-in-excel\" data-toc-modified-id=\"Example-1---finding-urls-in-excel-5.0.2\">Example 1 - finding urls in excel</a></span><ul class=\"toc-item\"><li><span><a href=\"#Review-input-files--1-&amp;-2-(under-/data/test_cais)\" data-toc-modified-id=\"Review-input-files--1-&amp;-2-(under-/data/test_cais)-5.0.2.1\">Review input files  1 &amp; 2 (under /data/test_cais)</a></span></li><li><span><a href=\"#Switch-to-PyCharm\" data-toc-modified-id=\"Switch-to-PyCharm-5.0.2.2\">Switch to PyCharm</a></span></li></ul></li><li><span><a href=\"#Example-2---finding-names-&amp;-use-of-supplementary-data-summaries\" data-toc-modified-id=\"Example-2---finding-names-&amp;-use-of-supplementary-data-summaries-5.0.3\">Example 2 - finding names &amp; use of supplementary data summaries</a></span></li><li><span><a href=\"#Review-input-files-(/data/test_cais)\" data-toc-modified-id=\"Review-input-files-(/data/test_cais)-5.0.4\">Review input files (/data/test_cais)</a></span><ul class=\"toc-item\"><li><span><a href=\"#Switch-to-PyCharm\" data-toc-modified-id=\"Switch-to-PyCharm-5.0.4.1\">Switch to PyCharm</a></span></li></ul></li></ul></li></ul></li><li><span><a href=\"#3---When-not-to-use-TDD-for-data?\" data-toc-modified-id=\"3---When-not-to-use-TDD-for-data?-6\">3 - When not to use TDD for data?</a></span></li><li><span><a href=\"#4---Helpful-Resources\" data-toc-modified-id=\"4---Helpful-Resources-7\">4 - Helpful Resources</a></span></li><li><span><a href=\"#Recap:-Our-Objectives\" data-toc-modified-id=\"Recap:-Our-Objectives-8\">Recap: Our Objectives</a></span></li><li><span><a href=\"#END\" data-toc-modified-id=\"END-9\">END</a></span><ul class=\"toc-item\"><li><ul class=\"toc-item\"><li><span><a href=\"#setup-notes\" data-toc-modified-id=\"setup-notes-9.0.1\">setup notes</a></span></li><li><span><a href=\"#resources\" data-toc-modified-id=\"resources-9.0.2\">resources</a></span><ul class=\"toc-item\"><li><span><a href=\"#regex\" data-toc-modified-id=\"regex-9.0.2.1\">regex</a></span></li></ul></li></ul></li></ul></li></ul></div>"
   ]
  },
  {
   "cell_type": "markdown",
   "metadata": {
    "ExecuteTime": {
     "end_time": "2019-07-18T18:24:58.564374Z",
     "start_time": "2019-07-18T18:24:58.552374Z"
    },
    "hide_input": false,
    "slideshow": {
     "slide_type": "slide"
    }
   },
   "source": [
    "<img src=\"data/images/detective_and_murderer.jpg\" alt=\"Filipe Fortes circa 2013\" style=\"width: 1500px;\">"
   ]
  },
  {
   "cell_type": "markdown",
   "metadata": {
    "slideshow": {
     "slide_type": "slide"
    }
   },
   "source": [
    "# 0 - TDD for data with pytest\n",
    "\n",
    "TDD is great for software engineering, but did you know TDD can add a lot of speed and quality to Data Science projects too?  \n",
    "\n",
    "We'll learn how we can use TDD to save you time - and quickly improve functions which extract and process data.\n"
   ]
  },
  {
   "cell_type": "markdown",
   "metadata": {
    "slideshow": {
     "slide_type": "slide"
    }
   },
   "source": [
    "# Our Objectives\n",
    "- Intro TDD (Test Driven Development)\n",
    "- Learn about two packages: pytest & datatest \n",
    "- See TDD for data engineering in action\n",
    "- Understand When not to use TDD\n",
    "- Get some relevant Resources"
   ]
  },
  {
   "cell_type": "markdown",
   "metadata": {
    "ExecuteTime": {
     "end_time": "2019-07-18T18:24:28.518521Z",
     "start_time": "2019-07-18T18:24:28.504521Z"
    },
    "slideshow": {
     "slide_type": "slide"
    }
   },
   "source": [
    "### Why TDD?\n",
    "<img src=data/images/debugging_switches.200w.webp style=\"height: 700px;\"/>"
   ]
  },
  {
   "cell_type": "markdown",
   "metadata": {
    "ExecuteTime": {
     "end_time": "2019-07-16T01:24:46.250171Z",
     "start_time": "2019-07-16T01:24:46.229174Z"
    },
    "slideshow": {
     "slide_type": "subslide"
    }
   },
   "source": [
    "# About me\n",
    "\n",
    "**Chris Brousseau**\n",
    "\n",
    "*Surface Owl - Founder & Data Scientist*\n",
    "<br>\n",
    "*Pragmatic AI Labs - Cloud-Native ML*\n",
    "<br>\n",
    "\n",
    "<br>\n",
    "Prior work at Accenture & USAF\n",
    "<br>\n",
    "Engineering @Boston University"
   ]
  },
  {
   "cell_type": "markdown",
   "metadata": {
    "slideshow": {
     "slide_type": "subslide"
    }
   },
   "source": [
    "### What is TDD\n",
    "- process for software development\n",
    "- themes: intentional -> small -> explicit -> automated\n",
    "\n",
    "\n",
    "### How does it work?\n",
    "\n",
    "- confirm requirements\n",
    "- write a failing test (vs ONLY these requirements!)\n",
    "- write code to pass the test (keep it small)\n",
    "- refactor\n",
    "- retest\n",
    "- automate"
   ]
  },
  {
   "cell_type": "markdown",
   "metadata": {
    "slideshow": {
     "slide_type": "subslide"
    }
   },
   "source": [
    "### Why TDD?\n",
    "\n",
    "1. first - focus on requirements and outcomes\n",
    "\n",
    "2. reduce time debugging\n",
    "\n",
    "3. boost confidence in your code\n",
    "\n",
    "4. improve refactoring - speed and confidence\n",
    "\n",
    "5. encourages \"clean code\" - SRP, organization\n",
    "\n",
    "\n",
    "### Why TDD for data?\n",
    "1. all the above\n",
    "2. save you time\n",
    "3. confidence in pipeline"
   ]
  },
  {
   "cell_type": "markdown",
   "metadata": {
    "slideshow": {
     "slide_type": "slide"
    }
   },
   "source": [
    "# 1- Relevant Packages:  pytest & datatest\n",
    "\n",
    "**pytest**\n",
    "framework for writing and running tests\n",
    "\n",
    "- pypi\n",
    "- auto-discovery of your tests (prefix `test` on files, classes & functions)\n",
    "- runs unittest and nose tests\n",
    "- detailed info on failures\n",
    "- useful plugins (coverage, aws, selenium, databases, etc)\n",
    "\n",
    "**datatest**\n",
    "helps speed up and formalize data-wrangling and data validation tasks\n",
    "\n",
    "- pypi\n",
    "- Test data pipeline components and end-to-end behavior"
   ]
  },
  {
   "cell_type": "code",
   "execution_count": 1,
   "metadata": {
    "ExecuteTime": {
     "end_time": "2019-07-19T00:43:56.533302Z",
     "start_time": "2019-07-19T00:43:56.471302Z"
    },
    "slideshow": {
     "slide_type": "subslide"
    }
   },
   "outputs": [],
   "source": [
    "import pytest\n",
    "\n",
    "def add(x, y):\n",
    "    print(x, y)\n",
    "    print(x + y)\n",
    "    return x + y\n"
   ]
  },
  {
   "cell_type": "code",
   "execution_count": 2,
   "metadata": {
    "ExecuteTime": {
     "end_time": "2019-07-19T00:43:56.537303Z",
     "start_time": "2019-07-19T00:43:56.534301Z"
    },
    "slideshow": {
     "slide_type": "subslide"
    }
   },
   "outputs": [],
   "source": [
    "# %load src/pytest_simple_example.py\n",
    "\"\"\"\n",
    "overly simple example of function to test with pytest\n",
    "\"\"\"\n",
    "\n",
    "\n",
    "def add_two_ints(first_int, second_int):\n",
    "    \"\"\"\n",
    "    function to add two numbers together\n",
    "    :param first_int: the first number to add together\n",
    "    :param second_int: the second number to add together\n",
    "    :return: sum of inputs, may be positive or negative\n",
    "    :rtype: int\n",
    "    \"\"\"\n",
    "\n",
    "    return first_int + second_int\n"
   ]
  },
  {
   "cell_type": "code",
   "execution_count": 3,
   "metadata": {
    "ExecuteTime": {
     "end_time": "2019-07-19T00:43:56.546305Z",
     "start_time": "2019-07-19T00:43:56.538303Z"
    },
    "slideshow": {
     "slide_type": "subslide"
    }
   },
   "outputs": [],
   "source": [
    "# %load tests/test_01_simple_pytest_example\n",
    "\"\"\"\n",
    "simple example of pytest usage\n",
    "\"\"\"\n",
    "import pytest\n",
    "\n",
    "from src.pytest_simple_example import add_two_ints\n",
    "\n",
    "\n",
    "@pytest.mark.filterwarnings(\"ignore: :DeprecationWarning\")\n",
    "def test_simple_example():\n",
    "    assert add_two_ints(1, 1) == 2\n"
   ]
  },
  {
   "cell_type": "markdown",
   "metadata": {
    "slideshow": {
     "slide_type": "slide"
    }
   },
   "source": [
    "# 2- TDD for data engineering"
   ]
  },
  {
   "cell_type": "markdown",
   "metadata": {
    "slideshow": {
     "slide_type": "subslide"
    }
   },
   "source": [
    "### datatest deets\n",
    "\n",
    "- core functions:  validation, error reporting, and acceptance declarations\n",
    "- built-in classes for selecting, querying, and iterating over the data under test\n",
    "- both pytest & unittest styles\n",
    "\n",
    "\n",
    "- works with Pandas\n",
    "- has Pandas-like syntax\n",
    "- useful for pipelines\n",
    "\n",
    "\n",
    "- https://github.com/shawnbrown/datatest\n",
    "- https://datatest.readthedocs.io/en/stable/index.html\n"
   ]
  },
  {
   "cell_type": "code",
   "execution_count": null,
   "metadata": {
    "slideshow": {
     "slide_type": "subslide"
    }
   },
   "outputs": [],
   "source": [
    "Example 0 - datatest\n",
    "\n",
    "- TBD (Chris to write)\n",
    "- need to create some input files for pandas\n"
   ]
  },
  {
   "cell_type": "markdown",
   "metadata": {
    "slideshow": {
     "slide_type": "subslide"
    }
   },
   "source": [
    "### Example 1 - finding urls in excel\n",
    "\n",
    "- url test case\n",
    "- multiple url test case which breaks prior tests\n",
    "- regex101.com illustration (edit function to make tests pass)\n",
    "  https://regex101.com/\n",
    "- final regex to rule them all\n",
    "\n",
    "#### Review input files  1 & 2 (under /data/test_cais)\n",
    "\n",
    "#### Switch to PyCharm"
   ]
  },
  {
   "cell_type": "markdown",
   "metadata": {
    "slideshow": {
     "slide_type": "subslide"
    }
   },
   "source": [
    "### Example 2 - finding names & use of supplementary data summaries\n",
    "\n",
    "- use of expected results file bundled with data as pytest input\n",
    "- structured discovery of edge cases\n",
    "\n",
    "- **objective:** find school names in messy excel document\n",
    "- **strategy:** find names by finding specific formats - removing stopwords & addresses\n",
    "- **test goals:** confirm code finds same # of names as we do manually\n",
    "- **test approach:** summarize names manually in new tab, *then test code results vs. manual results*\n",
    "\n",
    "### Review input files (/data/test_cais)\n",
    "\n",
    "#### Switch to PyCharm"
   ]
  },
  {
   "cell_type": "markdown",
   "metadata": {
    "slideshow": {
     "slide_type": "slide"
    }
   },
   "source": [
    "\n",
    "# 3 - When not to use TDD for data?\n",
    "\n",
    "- EDA\n",
    "- quick prototypes\n",
    "- data source is complete & managed\n",
    "- cost / time >> benefits\n"
   ]
  },
  {
   "cell_type": "markdown",
   "metadata": {
    "slideshow": {
     "slide_type": "slide"
    }
   },
   "source": [
    "# 4 - Helpful Resources\n",
    "\n",
    "**pytest**\n",
    "\n",
    "[pytest on pypi: https://pypi.org/project/pytest/](https://pypi.org/project/pytest/)\n",
    "\n",
    "[pytest docs: https://docs.pytest.org/en/latest/](https://docs.pytest.org/en/latest/)\n",
    "<br><br>\n",
    "**datatest**\n",
    "\n",
    "[datatest on pypi: https://pypi.org/project/datatest/](https://pypi.org/project/datatest/)\n",
    "\n",
    "[datatest:       https://github.com/shawnbrown/datatest](https://github.com/shawnbrown/datatest)\n",
    "\n",
    "[datatest docs: https://datatest.readthedocs.io/en/stable/](https://datatest.readthedocs.io/en/stable/)\n",
    "\n",
    "**TDD for data**\n",
    "\n",
    "[towards data science article](https://towardsdatascience.com/tdd-datascience-689c98492fcc)\n"
   ]
  },
  {
   "cell_type": "markdown",
   "metadata": {
    "slideshow": {
     "slide_type": "slide"
    }
   },
   "source": [
    "# Recap: Our Objectives\n",
    "\n",
    "- Intro TDD (Test Driven Development)\n",
    "- Learn about two packages: pytest & datatest \n",
    "- See TDD for data engineering in action\n",
    "- Understand When not to use TDD\n",
    "- Get some relevant Resources"
   ]
  },
  {
   "cell_type": "markdown",
   "metadata": {
    "slideshow": {
     "slide_type": "slide"
    }
   },
   "source": [
    "# END"
   ]
  },
  {
   "cell_type": "markdown",
   "metadata": {
    "slideshow": {
     "slide_type": "skip"
    }
   },
   "source": [
    "### setup notes\n",
    "\n",
    "venv, then pip install -r requirements.txt\n",
    "pip install -e .\n",
    "\n",
    "run pytest from terminal - must be in tests dir\n",
    "\n",
    "pycharm setup -- set test runner to pytest\n",
    "\n",
    "\n",
    "### resources\n",
    "\n",
    "https://nbviewer.jupyter.org/github/agostontorok/tdd_data_analysis/blob/master/TDD%20in%20data%20analysis%20-%20Step-by-step%20tutorial.ipynb#Step-by-step-TDD-in-a-data-science-task\n",
    "\n",
    "http://www.tdda.info/\n",
    "\n",
    "fix pytest Module not found\n",
    "https://medium.com/@dirk.avery/pytest-modulenotfounderror-no-module-named-requests-a770e6926ac5\n",
    "\n",
    "\n",
    "#### regex\n",
    "https://regex101.com/\n"
   ]
  }
 ],
 "metadata": {
  "celltoolbar": "Slideshow",
  "kernelspec": {
   "display_name": "Python 3",
   "language": "python",
   "name": "python3"
  },
  "language_info": {
   "codemirror_mode": {
    "name": "ipython",
    "version": 3
   },
   "file_extension": ".py",
   "mimetype": "text/x-python",
   "name": "python",
   "nbconvert_exporter": "python",
   "pygments_lexer": "ipython3",
   "version": "3.7.3"
  },
  "toc": {
   "base_numbering": 1,
   "nav_menu": {},
   "number_sections": false,
   "sideBar": true,
   "skip_h1_title": false,
   "title_cell": "Table of Contents",
   "title_sidebar": "Contents",
   "toc_cell": true,
   "toc_position": {
    "height": "calc(100% - 180px)",
    "left": "10px",
    "top": "150px",
    "width": "165px"
   },
   "toc_section_display": true,
   "toc_window_display": false
  }
 },
 "nbformat": 4,
 "nbformat_minor": 2
}
