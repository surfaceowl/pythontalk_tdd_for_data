{
 "cells": [
  {
   "cell_type": "markdown",
   "metadata": {
    "toc": true
   },
   "source": [
    "<h1>Table of Contents<span class=\"tocSkip\"></span></h1>\n",
    "<div class=\"toc\"><ul class=\"toc-item\"><li><span><a href=\"#0---TDD-for-data-with-pytest\" data-toc-modified-id=\"0---TDD-for-data-with-pytest-1\">0 - TDD for data with pytest</a></span></li><li><span><a href=\"#About-me\" data-toc-modified-id=\"About-me-2\">About me</a></span></li><li><span><a href=\"#Problem-to-solve\" data-toc-modified-id=\"Problem-to-solve-3\">Problem to solve</a></span></li><li><span><a href=\"#Two-main-cases\" data-toc-modified-id=\"Two-main-cases-4\">Two main cases</a></span></li><li><span><a href=\"#Our-Objectives\" data-toc-modified-id=\"Our-Objectives-5\">Our Objectives</a></span><ul class=\"toc-item\"><li><ul class=\"toc-item\"><li><span><a href=\"#Why-TDD?\" data-toc-modified-id=\"Why-TDD?-5.0.1\">Why TDD?</a></span></li><li><span><a href=\"#What-is-TDD\" data-toc-modified-id=\"What-is-TDD-5.0.2\">What is TDD</a></span></li><li><span><a href=\"#How-does-it-work?\" data-toc-modified-id=\"How-does-it-work?-5.0.3\">How does it work?</a></span></li><li><span><a href=\"#Why-TDD?\" data-toc-modified-id=\"Why-TDD?-5.0.4\">Why TDD?</a></span></li><li><span><a href=\"#Why-TDD-for-data?\" data-toc-modified-id=\"Why-TDD-for-data?-5.0.5\">Why TDD for data?</a></span></li></ul></li></ul></li><li><span><a href=\"#1--Relevant-Packages:--pytest-&amp;-datatest\" data-toc-modified-id=\"1--Relevant-Packages:--pytest-&amp;-datatest-6\">1- Relevant Packages:  pytest &amp; datatest</a></span></li><li><span><a href=\"#2--TDD-for-data-engineering\" data-toc-modified-id=\"2--TDD-for-data-engineering-7\">2- TDD for data engineering</a></span><ul class=\"toc-item\"><li><ul class=\"toc-item\"><li><span><a href=\"#datatest-deets\" data-toc-modified-id=\"datatest-deets-7.0.1\">datatest deets</a></span></li><li><span><a href=\"#Example-1---finding-urls-in-excel\" data-toc-modified-id=\"Example-1---finding-urls-in-excel-7.0.2\">Example 1 - finding urls in excel</a></span><ul class=\"toc-item\"><li><span><a href=\"#Review-input-files--1-&amp;-2-(under-/data/test_cais)\" data-toc-modified-id=\"Review-input-files--1-&amp;-2-(under-/data/test_cais)-7.0.2.1\">Review input files  1 &amp; 2 (under /data/test_cais)</a></span></li><li><span><a href=\"#Switch-to-PyCharm\" data-toc-modified-id=\"Switch-to-PyCharm-7.0.2.2\">Switch to PyCharm</a></span></li></ul></li><li><span><a href=\"#Example-2---finding-names-&amp;-use-of-supplementary-data-summaries\" data-toc-modified-id=\"Example-2---finding-names-&amp;-use-of-supplementary-data-summaries-7.0.3\">Example 2 - finding names &amp; use of supplementary data summaries</a></span></li><li><span><a href=\"#Review-input-files-(/data/test_cais)\" data-toc-modified-id=\"Review-input-files-(/data/test_cais)-7.0.4\">Review input files (/data/test_cais)</a></span><ul class=\"toc-item\"><li><span><a href=\"#Switch-to-PyCharm\" data-toc-modified-id=\"Switch-to-PyCharm-7.0.4.1\">Switch to PyCharm</a></span></li></ul></li></ul></li></ul></li><li><span><a href=\"#3---When-not-to-use-TDD-for-data?\" data-toc-modified-id=\"3---When-not-to-use-TDD-for-data?-8\">3 - When not to use TDD for data?</a></span></li><li><span><a href=\"#4---Resources\" data-toc-modified-id=\"4---Resources-9\">4 - Resources</a></span></li><li><span><a href=\"#Recap:-Our-Objectives\" data-toc-modified-id=\"Recap:-Our-Objectives-10\">Recap: Our Objectives</a></span></li><li><span><a href=\"#END\" data-toc-modified-id=\"END-11\">END</a></span><ul class=\"toc-item\"><li><ul class=\"toc-item\"><li><span><a href=\"#setup-notes\" data-toc-modified-id=\"setup-notes-11.0.1\">setup notes</a></span></li><li><span><a href=\"#resources\" data-toc-modified-id=\"resources-11.0.2\">resources</a></span><ul class=\"toc-item\"><li><span><a href=\"#regex\" data-toc-modified-id=\"regex-11.0.2.1\">regex</a></span></li></ul></li></ul></li></ul></li></ul></div>"
   ]
  },
  {
   "cell_type": "markdown",
   "metadata": {
    "ExecuteTime": {
     "end_time": "2019-07-18T18:24:58.564374Z",
     "start_time": "2019-07-18T18:24:58.552374Z"
    },
    "hide_input": false,
    "slideshow": {
     "slide_type": "slide"
    }
   },
   "source": [
    "<img src=\"data/images/detective_and_murderer.jpg\" alt=\"Filipe Fortes circa 2013\" style=\"width: 1500px;\">"
   ]
  },
  {
   "cell_type": "markdown",
   "metadata": {
    "slideshow": {
     "slide_type": "slide"
    }
   },
   "source": [
    "# 0 - TDD for data with pytest\n",
    "\n",
    "TDD is great for software engineering, but did you know TDD can add a lot of speed and quality to Data Science projects too?  \n",
    "\n",
    "We'll learn how we can use TDD to save you time - and quickly improve functions which extract and process data.\n"
   ]
  },
  {
   "cell_type": "markdown",
   "metadata": {
    "ExecuteTime": {
     "end_time": "2019-07-16T01:24:46.250171Z",
     "start_time": "2019-07-16T01:24:46.229174Z"
    },
    "slideshow": {
     "slide_type": "subslide"
    }
   },
   "source": [
    "# About me\n",
    "\n",
    "**Chris Brousseau**\n",
    "\n",
    "*Surface Owl - Founder & Data Scientist*\n",
    "<br>\n",
    "*Pragmatic AI Labs - Cloud-Native ML*\n",
    "<br>\n",
    "\n",
    "<br>\n",
    "Prior work at Accenture & USAF\n",
    "<br>\n",
    "Engineering @Boston University"
   ]
  },
  {
   "cell_type": "markdown",
   "metadata": {
    "slideshow": {
     "slide_type": "slide"
    }
   },
   "source": [
    "# Problem to solve\n",
    "- speed up development & improve quality on data science projects\n",
    "<br><br>\n",
    "\n",
    "# Two main cases\n",
    "  1. test tidy input *(matrix - columns = var, row = observation)*  **(tidy data != clean data)**\n",
    "<br><br>\n",
    "  2. test ingest/transformations of complex input *(creating tidy & clean data)*\n",
    "<br><br>\n",
    "\n",
    "# Our Objectives\n",
    "- Intro TDD (Test Driven Development)\n",
    "- Learn about two packages: pytest & datatest \n",
    "  - For tidy data - *see datatest in action* \n",
    "  - For data engineeing - *see TDD for complex input*\n",
    "- Understand When not to use TDD\n",
    "- Get links to Resources"
   ]
  },
  {
   "cell_type": "markdown",
   "metadata": {
    "ExecuteTime": {
     "end_time": "2019-07-18T18:24:28.518521Z",
     "start_time": "2019-07-18T18:24:28.504521Z"
    },
    "slideshow": {
     "slide_type": "slide"
    }
   },
   "source": [
    "### Why TDD?\n",
    "<img src=data/images/debugging_switches.200w.webp style=\"height: 700px;\"/>"
   ]
  },
  {
   "cell_type": "markdown",
   "metadata": {
    "slideshow": {
     "slide_type": "subslide"
    }
   },
   "source": [
    "### What is TDD\n",
    "- process for software development\n",
    "- themes: intentional -> small -> explicit -> automated\n",
    "\n",
    "\n",
    "### How does it work?\n",
    "\n",
    "- confirm requirements\n",
    "- write a failing test (vs ONLY these requirements!)\n",
    "- write code to pass the test (keep it small)\n",
    "- refactor\n",
    "- retest\n",
    "- automate"
   ]
  },
  {
   "cell_type": "code",
   "execution_count": null,
   "metadata": {
    "slideshow": {
     "slide_type": "slide"
    }
   },
   "outputs": [],
   "source": [
    "%%javascript\n",
    "IPython.notebook.kernel.execute('nb_name = \"' + IPython.notebook.notebook_name + '\"')"
   ]
  },
  {
   "cell_type": "code",
   "execution_count": null,
   "metadata": {
    "slideshow": {
     "slide_type": "subslide"
    }
   },
   "outputs": [],
   "source": [
    "# %load src/pytest_simple_example.py\n",
    "\"\"\"\n",
    "overly simple example of function to test with pytest\n",
    "\"\"\"\n",
    "\n",
    "\n",
    "def add_two_ints(first_int, second_int):\n",
    "    \"\"\"\n",
    "    function to add two numbers together\n",
    "    :param first_int: the first number to add together\n",
    "    :param second_int: the second number to add together\n",
    "    :return: sum of inputs, may be positive or negative\n",
    "    :rtype: int\n",
    "    \"\"\"\n",
    "\n",
    "    return first_int + second_int\n"
   ]
  },
  {
   "cell_type": "code",
   "execution_count": null,
   "metadata": {
    "slideshow": {
     "slide_type": "subslide"
    }
   },
   "outputs": [],
   "source": [
    "# %load tests/test_00_simple_pytest_example\n",
    "\"\"\"\n",
    "basic usage example of pytest\n",
    "\"\"\"\n",
    "import pytest\n",
    "from src.pytest_simple_example import add_two_ints\n",
    "\n",
    "\n",
    "@pytest.mark.filterwarnings(\"ignore: :DeprecationWarning\")\n",
    "def test_simple_example():\n",
    "    assert add_two_ints(1, 1) == 2\n"
   ]
  },
  {
   "cell_type": "code",
   "execution_count": null,
   "metadata": {},
   "outputs": [],
   "source": [
    "add_two_ints(1,1)"
   ]
  },
  {
   "cell_type": "code",
   "execution_count": null,
   "metadata": {},
   "outputs": [],
   "source": [
    "test_simple_example()"
   ]
  },
  {
   "cell_type": "markdown",
   "metadata": {
    "slideshow": {
     "slide_type": "subslide"
    }
   },
   "source": [
    "### Why TDD?\n",
    "\n",
    "1. first - focus on requirements and outcomes\n",
    "\n",
    "2. reduce time debugging\n",
    "\n",
    "3. boost confidence in your code\n",
    "\n",
    "4. improve refactoring - *speed and confidence*\n",
    "\n",
    "5. encourages \"clean code\" - *SRP, organization*\n",
    "\n",
    "6. speed up onboarding new team members - *read 1K lines, or a test?*\n",
    "\n",
    "\n",
    "### Why TDD for data?\n",
    "1. all the above\n",
    "2. save you time\n",
    "3. confidence in pipeline"
   ]
  },
  {
   "cell_type": "markdown",
   "metadata": {
    "slideshow": {
     "slide_type": "slide"
    }
   },
   "source": [
    "# 1- Relevant Packages:  pytest & datatest\n",
    "\n",
    "**pytest**\n",
    "framework for writing and running tests\n",
    "\n",
    "- pypi\n",
    "- auto-discovery of your tests (prefix `test` on files, classes & functions)\n",
    "- runs unittest and nose tests\n",
    "- detailed info on failures\n",
    "- useful plugins (coverage, aws, selenium, databases, etc)\n",
    "\n",
    "**datatest**\n",
    "helps speed up and formalize data-wrangling and data validation tasks\n",
    "\n",
    "- pypi\n",
    "- Test data pipeline components and end-to-end behavior"
   ]
  },
  {
   "cell_type": "code",
   "execution_count": null,
   "metadata": {
    "slideshow": {
     "slide_type": "slide"
    }
   },
   "outputs": [],
   "source": [
    "import ipytest\n",
    "import ipytest.magics\n",
    "ipytest.config(rewrite_asserts=True, magics=True)\n",
    "\n",
    "# __file__ = \"INSERT YOUR NOTEBOOK FILENAME HERE\"\n",
    "__file__ = nb_name"
   ]
  },
  {
   "cell_type": "code",
   "execution_count": null,
   "metadata": {},
   "outputs": [],
   "source": [
    "# pytest not working correctly in jupyter notebook\n",
    "# investigate:  https://github.com/chmp/ipytest\n",
    "# https://github.com/chmp/ipytest/blob/master/Example.ipynb\n",
    "\n",
    "# %%run_pytest[clean] -qq\n",
    "ipytest.clean_tests()\n",
    "ipytest.run('-qq')"
   ]
  },
  {
   "cell_type": "code",
   "execution_count": null,
   "metadata": {},
   "outputs": [],
   "source": [
    "add_two_ints(1,1)"
   ]
  },
  {
   "cell_type": "markdown",
   "metadata": {
    "slideshow": {
     "slide_type": "slide"
    }
   },
   "source": [
    "# 2- TDD for data engineering"
   ]
  },
  {
   "cell_type": "markdown",
   "metadata": {
    "slideshow": {
     "slide_type": "subslide"
    }
   },
   "source": [
    "### datatest deets\n",
    "\n",
    "- core functions:  validation, error reporting, and acceptance declarations\n",
    "- built-in classes for selecting, querying, and iterating over the data under test\n",
    "- both pytest & unittest styles\n",
    "\n",
    "\n",
    "- works with Pandas\n",
    "- has Pandas-like syntax\n",
    "- useful for pipelines\n",
    "\n",
    "\n",
    "- https://github.com/shawnbrown/datatest\n",
    "- https://datatest.readthedocs.io/en/stable/index.html\n"
   ]
  },
  {
   "cell_type": "code",
   "execution_count": null,
   "metadata": {
    "slideshow": {
     "slide_type": "subslide"
    }
   },
   "outputs": [],
   "source": [
    "Example 0 - datatest\n",
    "\n",
    "- TBD (Chris to write)\n",
    "- need to create some input files for pandas\n"
   ]
  },
  {
   "cell_type": "markdown",
   "metadata": {
    "slideshow": {
     "slide_type": "subslide"
    }
   },
   "source": [
    "### Example 1 - finding urls in excel\n",
    "\n",
    "- url test case\n",
    "- multiple url test case which breaks prior tests\n",
    "- regex101.com illustration (edit function to make tests pass)\n",
    "  https://regex101.com/\n",
    "- final regex to rule them all\n",
    "\n",
    "#### Review input files  1 & 2 (under /data/test_cais)\n",
    "\n",
    "#### Switch to PyCharm"
   ]
  },
  {
   "cell_type": "code",
   "execution_count": null,
   "metadata": {
    "slideshow": {
     "slide_type": "slide"
    }
   },
   "outputs": [],
   "source": [
    "# %load tests/test_02_cais_find_url_examples\n",
    "\"\"\"\n",
    "test functions to find url in cell content from an excel worksheet\n",
    "\n",
    "functions below have \"do_this_later_\" prefix to prevent tests from running during early part of talk\n",
    "remove prefix as we walk through examples, and re-run tests\n",
    "\"\"\"\n",
    "from src.excel_read_file_functions import get_workbook\n",
    "from src.excel_read_cell_info import find_url\n",
    "from src.configuration_info_cais import datapath_tests\n",
    "\n",
    "\n",
    "def test_find_single_url():\n",
    "    \"\"\"\n",
    "    unit test to find url in a single text string\n",
    "    :return: None\n",
    "    \"\"\"\n",
    "    # the find_url function we are testing takes cell content as a string, and current results dict\n",
    "    # pass an empty results dict, so no existing value is found\n",
    "    result = {}\n",
    "\n",
    "    # inputs we expect to pass\n",
    "    input01 = \"Coeducational Boarding/Day School Grades 6-12; Enrollment 350 www.prioryca.org\"\n",
    "\n",
    "    # declare result we expect to find here\n",
    "    assert find_url(input01, result) == \"www.prioryca.org\"\n",
    "\n",
    "\n",
    "def do_this_later_test_find_multi_url():\n",
    "    \"\"\"\n",
    "    unit test multiple strings for urls in bulk - rather than separate test functions for each\n",
    "    one way to rapidly iterate on your code, nicely encapsulates similar cases\n",
    "\n",
    "    requires editing REGEX in excel_read_cell_info.find_url to make this test pass\n",
    "    \"\"\"\n",
    "    result = {}\n",
    "\n",
    "    # inputs we expect to pass\n",
    "    input01 = \"Coed Boarding/Day School Grades 6-12; Enrollment 350 http://www.prioryca.org\"\n",
    "    input02 = \"https://windwardschool.org\"\n",
    "    input03 = \"  Enrollment 225 york.org\"\n",
    "    input04 = \"Surface Owl Inc., https://surfaceowl.com\"\n",
    "\n",
    "    # inputs we expect to return `None`\n",
    "    input05 = \"Woodside Priory School\"\n",
    "    input06 = \"8221  Fax (650)\"\n",
    "    input07 = \"Head of School Coeducational Boarding/Day School Grades 6-12; Enrollment 350\"\n",
    "    input08 = \"surfaceowl\"\n",
    "\n",
    "    assert find_url(input01, result) == \"http://www.prioryca.org\"\n",
    "    assert find_url(input02, result) == \"https://windwardschool.org\"\n",
    "    assert find_url(input03, result) == \"york.org\"\n",
    "    assert find_url(input04, result) == \"https://surfaceowl.com\"\n",
    "    assert find_url(input05, result) is None\n",
    "    assert find_url(input06, result) is None\n",
    "    assert find_url(input07, result) is None\n",
    "    assert find_url(input08, result) is None\n",
    "\n",
    "\n",
    "def do_this_later_test_find_url_from_excelfile():\n",
    "    \"\"\"\n",
    "    integration test to find url from excel file\n",
    "    :return: None\n",
    "    \"\"\"\n",
    "\n",
    "    filename = datapath_tests + \"School_Directory_2013-2014-converted.xlsx\"\n",
    "    workbook = get_workbook(filename)\n",
    "    tab_name = \"Table 15\"\n",
    "    row = 23\n",
    "    result = {}  # function expects input dict with prior results; equals empty dict now\n",
    "\n",
    "    # inputs we expect to pass\n",
    "    test_input = workbook[tab_name].cell(row=row, column=1).value\n",
    "\n",
    "    assert find_url(test_input, result) == \"https://www.hamlin.org\"\n"
   ]
  },
  {
   "cell_type": "code",
   "execution_count": null,
   "metadata": {},
   "outputs": [],
   "source": [
    "ipytest.run('-qq')"
   ]
  },
  {
   "cell_type": "markdown",
   "metadata": {
    "slideshow": {
     "slide_type": "subslide"
    }
   },
   "source": [
    "### Example 2 - finding names & use of supplementary data summaries\n",
    "\n",
    "- use of expected results file bundled with data as pytest input\n",
    "- structured discovery of edge cases\n",
    "\n",
    "- **objective:** find school names in messy excel document\n",
    "- **strategy:** find names by finding specific formats - removing stopwords & addresses\n",
    "- **test goals:** confirm code finds same # of names as we do manually\n",
    "- **test approach:** summarize names manually in new tab, *then test code results vs. manual results*\n",
    "\n",
    "### Review input files (/data/test_cais)\n",
    "\n",
    "#### Switch to PyCharm"
   ]
  },
  {
   "cell_type": "markdown",
   "metadata": {
    "slideshow": {
     "slide_type": "slide"
    }
   },
   "source": [
    "\n",
    "# 3 - When not to use TDD for data?\n",
    "\n",
    "- EDA\n",
    "- quick prototypes\n",
    "- data source is complete & managed\n",
    "- cost / time >> benefits\n"
   ]
  },
  {
   "cell_type": "markdown",
   "metadata": {
    "slideshow": {
     "slide_type": "slide"
    }
   },
   "source": [
    "# 4 - Resources\n",
    "\n",
    "**this talk:**  https://github.com/surfaceowl/pythontalk_tdd_for_data\n",
    "<br><br>\n",
    "**pytest**\n",
    "\n",
    "[pytest on pypi: https://pypi.org/project/pytest/](https://pypi.org/project/pytest/)\n",
    "\n",
    "[pytest docs: https://docs.pytest.org/en/latest/](https://docs.pytest.org/en/latest/)\n",
    "<br><br>\n",
    "**datatest**\n",
    "\n",
    "[datatest on pypi: https://pypi.org/project/datatest/](https://pypi.org/project/datatest/)\n",
    "\n",
    "[datatest:       https://github.com/shawnbrown/datatest](https://github.com/shawnbrown/datatest)\n",
    "\n",
    "[datatest docs: https://datatest.readthedocs.io/en/stable/](https://datatest.readthedocs.io/en/stable/)\n",
    "\n",
    "**TDD for data**\n",
    "\n",
    "[towards data science article](https://towardsdatascience.com/tdd-datascience-689c98492fcc)\n"
   ]
  },
  {
   "cell_type": "markdown",
   "metadata": {
    "slideshow": {
     "slide_type": "slide"
    }
   },
   "source": [
    "# Recap: Our Objectives\n",
    "\n",
    "- Intro TDD (Test Driven Development)\n",
    "- Learn about two packages: pytest & datatest \n",
    "- See TDD for data engineering in action\n",
    "- Understand When not to use TDD\n",
    "- Get some relevant Resources"
   ]
  },
  {
   "cell_type": "markdown",
   "metadata": {
    "slideshow": {
     "slide_type": "slide"
    }
   },
   "source": [
    "# END"
   ]
  },
  {
   "cell_type": "markdown",
   "metadata": {
    "slideshow": {
     "slide_type": "skip"
    }
   },
   "source": [
    "### setup notes\n",
    "\n",
    "venv, then pip install -r requirements.txt\n",
    "pip install -e .\n",
    "\n",
    "run pytest from terminal - must be in tests dir\n",
    "\n",
    "pycharm setup -- set test runner to pytest\n",
    "\n",
    "\n",
    "### resources\n",
    "\n",
    "https://nbviewer.jupyter.org/github/agostontorok/tdd_data_analysis/blob/master/TDD%20in%20data%20analysis%20-%20Step-by-step%20tutorial.ipynb#Step-by-step-TDD-in-a-data-science-task\n",
    "\n",
    "http://www.tdda.info/\n",
    "\n",
    "fix pytest Module not found\n",
    "https://medium.com/@dirk.avery/pytest-modulenotfounderror-no-module-named-requests-a770e6926ac5\n",
    "\n",
    "\n",
    "#### regex\n",
    "https://regex101.com/\n"
   ]
  }
 ],
 "metadata": {
  "celltoolbar": "Slideshow",
  "kernelspec": {
   "display_name": "Python 3",
   "language": "python",
   "name": "python3"
  },
  "language_info": {
   "codemirror_mode": {
    "name": "ipython",
    "version": 3
   },
   "file_extension": ".py",
   "mimetype": "text/x-python",
   "name": "python",
   "nbconvert_exporter": "python",
   "pygments_lexer": "ipython3",
   "version": "3.7.3"
  },
  "toc": {
   "base_numbering": 1,
   "nav_menu": {},
   "number_sections": false,
   "sideBar": true,
   "skip_h1_title": false,
   "title_cell": "Table of Contents",
   "title_sidebar": "Contents",
   "toc_cell": true,
   "toc_position": {
    "height": "calc(100% - 180px)",
    "left": "10px",
    "top": "150px",
    "width": "165px"
   },
   "toc_section_display": true,
   "toc_window_display": false
  }
 },
 "nbformat": 4,
 "nbformat_minor": 2
}
