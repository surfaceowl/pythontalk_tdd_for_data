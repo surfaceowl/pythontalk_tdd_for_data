{
 "cells": [
  {
   "cell_type": "markdown",
   "metadata": {
    "toc": true
   },
   "source": [
    "<h1>Table of Contents<span class=\"tocSkip\"></span></h1>\n",
    "<div class=\"toc\"><ul class=\"toc-item\"><li><ul class=\"toc-item\"><li><ul class=\"toc-item\"><li><span><a href=\"#TDD-for-data-with-pytest\" data-toc-modified-id=\"TDD-for-data-with-pytest-0.0.1\">TDD for data with pytest</a></span></li></ul></li></ul></li><li><span><a href=\"#About-me\" data-toc-modified-id=\"About-me-1\">About me</a></span></li><li><span><a href=\"#0---Problem-to-solve\" data-toc-modified-id=\"0---Problem-to-solve-2\">0 - Problem to solve</a></span></li><li><span><a href=\"#Two-main-cases\" data-toc-modified-id=\"Two-main-cases-3\">Two main cases</a></span></li><li><span><a href=\"#Our-Objectives\" data-toc-modified-id=\"Our-Objectives-4\">Our Objectives</a></span><ul class=\"toc-item\"><li><ul class=\"toc-item\"><li><span><a href=\"#Why-TDD?\" data-toc-modified-id=\"Why-TDD?-4.0.1\">Why TDD?</a></span></li><li><span><a href=\"#What-is-TDD\" data-toc-modified-id=\"What-is-TDD-4.0.2\">What is TDD</a></span></li><li><span><a href=\"#How-does-it-work?\" data-toc-modified-id=\"How-does-it-work?-4.0.3\">How does it work?</a></span></li><li><span><a href=\"#Why-TDD?\" data-toc-modified-id=\"Why-TDD?-4.0.4\">Why TDD?</a></span></li><li><span><a href=\"#Why-TDD-for-data?\" data-toc-modified-id=\"Why-TDD-for-data?-4.0.5\">Why TDD for data?</a></span></li></ul></li></ul></li><li><span><a href=\"#Relevant-Packages:--pytest\" data-toc-modified-id=\"Relevant-Packages:--pytest-5\">Relevant Packages:  pytest</a></span></li><li><span><a href=\"#Relevant-Packages:--datatest\" data-toc-modified-id=\"Relevant-Packages:--datatest-6\">Relevant Packages:  datatest</a></span></li><li><span><a href=\"#1--TDD-for-tidy-data\" data-toc-modified-id=\"1--TDD-for-tidy-data-7\">1- TDD for tidy data</a></span><ul class=\"toc-item\"><li><ul class=\"toc-item\"><li><span><a href=\"#datatest-deets!\" data-toc-modified-id=\"datatest-deets!-7.0.1\">datatest deets!</a></span><ul class=\"toc-item\"><li><span><a href=\"#datatest---what-does-it-do-for-you?\" data-toc-modified-id=\"datatest---what-does-it-do-for-you?-7.0.1.1\">datatest - what does it do for you?</a></span></li></ul></li><li><span><a href=\"#Example-0---datatest-cases\" data-toc-modified-id=\"Example-0---datatest-cases-7.0.2\">Example 0 - datatest cases</a></span><ul class=\"toc-item\"><li><span><a href=\"#sources:\" data-toc-modified-id=\"sources:-7.0.2.1\">sources:</a></span></li></ul></li></ul></li></ul></li><li><span><a href=\"#2---TDD-for-data-engineering\" data-toc-modified-id=\"2---TDD-for-data-engineering-8\">2 - TDD for data engineering</a></span><ul class=\"toc-item\"><li><ul class=\"toc-item\"><li><span><a href=\"#Example-1---finding-urls-in-excel\" data-toc-modified-id=\"Example-1---finding-urls-in-excel-8.0.1\">Example 1 - finding urls in excel</a></span><ul class=\"toc-item\"><li><span><a href=\"#Sample-data-(under-/data/test_cais)---needs-transformation\" data-toc-modified-id=\"Sample-data-(under-/data/test_cais)---needs-transformation-8.0.1.1\">Sample data (under /data/test_cais) - needs transformation</a></span></li></ul></li><li><span><a href=\"#regex101\" data-toc-modified-id=\"regex101-8.0.2\"><a href=\"https://regex101.com\" target=\"_blank\">regex101</a></a></span></li><li><span><a href=\"#Switch-to-PyCharm\" data-toc-modified-id=\"Switch-to-PyCharm-8.0.3\">Switch to PyCharm</a></span></li><li><span><a href=\"#Example-2---finding-names-&amp;-use-of-supplementary-data-summaries\" data-toc-modified-id=\"Example-2---finding-names-&amp;-use-of-supplementary-data-summaries-8.0.4\">Example 2 - finding names &amp; use of supplementary data summaries</a></span><ul class=\"toc-item\"><li><span><a href=\"#Recall-our-data-(under-/data/test_cais)---needs-transformation\" data-toc-modified-id=\"Recall-our-data-(under-/data/test_cais)---needs-transformation-8.0.4.1\">Recall our data (under /data/test_cais) - needs transformation</a></span></li><li><span><a href=\"#Review-input-files-(/data/test_cais)\" data-toc-modified-id=\"Review-input-files-(/data/test_cais)-8.0.4.2\">Review input files (/data/test_cais)</a></span></li><li><span><a href=\"#Data-Driven-transformation-accuracy-(/data/test_cais)\" data-toc-modified-id=\"Data-Driven-transformation-accuracy-(/data/test_cais)-8.0.4.3\">Data Driven transformation accuracy (/data/test_cais)</a></span></li></ul></li></ul></li></ul></li><li><span><a href=\"#3---When-not-to-use-TDD-for-data?\" data-toc-modified-id=\"3---When-not-to-use-TDD-for-data?-9\">3 - When not to use TDD for data?</a></span></li><li><span><a href=\"#4---Resources\" data-toc-modified-id=\"4---Resources-10\">4 - Resources</a></span></li><li><span><a href=\"#Recap:-Our-Objectives\" data-toc-modified-id=\"Recap:-Our-Objectives-11\">Recap: Our Objectives</a></span></li><li><span><a href=\"#END\" data-toc-modified-id=\"END-12\">END</a></span><ul class=\"toc-item\"><li><ul class=\"toc-item\"><li><span><a href=\"#setup-notes\" data-toc-modified-id=\"setup-notes-12.0.1\">setup notes</a></span></li><li><span><a href=\"#resources\" data-toc-modified-id=\"resources-12.0.2\">resources</a></span><ul class=\"toc-item\"><li><span><a href=\"#regex\" data-toc-modified-id=\"regex-12.0.2.1\">regex</a></span></li></ul></li></ul></li></ul></li></ul></div>"
   ]
  },
  {
   "cell_type": "markdown",
   "metadata": {
    "slideshow": {
     "slide_type": "slide"
    }
   },
   "source": [
    "\n",
    "### TDD for data with pytest\n",
    "\n",
    "\n",
    "TDD is great for software engineering, but did you know TDD can add a lot of speed and quality to Data Science projects too?\n",
    "\n",
    "We'll learn how we can use TDD to save you time - and quickly improve functions which extract and process data."
   ]
  },
  {
   "cell_type": "markdown",
   "metadata": {
    "ExecuteTime": {
     "end_time": "2019-07-16T01:24:46.250171Z",
     "start_time": "2019-07-16T01:24:46.229174Z"
    },
    "slideshow": {
     "slide_type": "slide"
    }
   },
   "source": [
    "# About me\n",
    "\n",
    "**Chris Brousseau**\n",
    "\n",
    "*Surface Owl - Founder & Data Scientist*\n",
    "<br>\n",
    "*Pragmatic AI Labs - Cloud-Native ML*\n",
    "<br>\n",
    "\n",
    "<br>\n",
    "Prior work at Accenture & USAF\n",
    "<br>\n",
    "Engineering @Boston University"
   ]
  },
  {
   "cell_type": "markdown",
   "metadata": {
    "ExecuteTime": {
     "end_time": "2019-07-18T18:24:58.564374Z",
     "start_time": "2019-07-18T18:24:58.552374Z"
    },
    "hide_input": false,
    "slideshow": {
     "slide_type": "slide"
    }
   },
   "source": [
    "<img src=\"data/images/detective_and_murderer.jpg\" alt=\"Filipe Fortes circa 2013\" style=\"width: 1400px;\">"
   ]
  },
  {
   "cell_type": "markdown",
   "metadata": {
    "slideshow": {
     "slide_type": "subslide"
    }
   },
   "source": [
    "# 0 - Problem to solve\n",
    "- speed up development & improve quality on data science projects\n",
    "<br><br>\n",
    "\n",
    "# Two main cases\n",
    "  1. test tidy input *(matrix - columns = var, row = observation)*  **(tidy data != clean data)**\n",
    "<br><br>\n",
    "  2. test ingest/transformations of complex input *(creating tidy & clean data)*\n"
   ]
  },
  {
   "cell_type": "markdown",
   "metadata": {
    "slideshow": {
     "slide_type": "subslide"
    }
   },
   "source": [
    "# Our Objectives\n",
    "- Intro TDD (Test Driven Development)\n",
    "- Learn about two packages: pytest & datatest \n",
    "  1. For tidy data - *see datatest in action* \n",
    "  2. For data engineering - *see TDD for complex input*\n",
    "- Understand When not to use TDD\n",
    "- Get links to Resources"
   ]
  },
  {
   "cell_type": "markdown",
   "metadata": {
    "ExecuteTime": {
     "end_time": "2019-07-18T18:24:28.518521Z",
     "start_time": "2019-07-18T18:24:28.504521Z"
    },
    "slideshow": {
     "slide_type": "subslide"
    }
   },
   "source": [
    "### Why TDD?\n",
    "<img src=data/images/debugging_switches.200w.webp style=\"height: 600px;\"/>"
   ]
  },
  {
   "cell_type": "markdown",
   "metadata": {
    "slideshow": {
     "slide_type": "subslide"
    }
   },
   "source": [
    "### What is TDD\n",
    "- process for software development\n",
    "- **themes:** intentional -> small -> explicit -> automated\n",
    "\n",
    "\n",
    "### How does it work?\n",
    "\n",
    "- confirm requirements\n",
    "- write a failing test (vs ONLY these requirements!)\n",
    "- write code to pass the test (keep it small)\n",
    "- refactor & retest\n",
    "- automate"
   ]
  },
  {
   "cell_type": "markdown",
   "metadata": {
    "slideshow": {
     "slide_type": "slide"
    }
   },
   "source": [
    "### Why TDD?\n",
    "\n",
    "1. first - focus on requirements and outcomes\n",
    "\n",
    "2. save time debugging\n",
    "\n",
    "3. boost confidence in your code\n",
    "\n",
    "4. improve refactoring - *speed and confidence*\n",
    "\n",
    "5. encourages \"clean code\" - *SRP, organization*\n",
    "\n",
    "6. speed up onboarding new team members - *read 1K lines, or a test?*\n",
    "\n",
    "\n",
    "### Why TDD for data?\n",
    "1. all the above\n",
    "2. confidence in pipeline"
   ]
  },
  {
   "cell_type": "markdown",
   "metadata": {
    "slideshow": {
     "slide_type": "slide"
    }
   },
   "source": [
    "# Relevant Packages:  pytest\n",
    "<br>\n",
    "\n",
    "**pytest:**\n",
    "framework for writing and running tests\n",
    "- pypi\n",
    "- auto-discovery of your tests (prefix `test` on files, classes & functions)\n",
    "- runs unittest and nose tests\n",
    "- write functions not classes\n",
    "- useful plugins (coverage, aws, selenium, databases, etc)\n",
    "- [Human-readable usage here](https://gist.github.com/kwmiebach/3fd49612ef7a52b5ce3a)\n",
    "<br><br>\n"
   ]
  },
  {
   "cell_type": "markdown",
   "metadata": {
    "slideshow": {
     "slide_type": "subslide"
    }
   },
   "source": [
    "# Relevant Packages:  datatest\n",
    "\n",
    "**datatest:**\n",
    "helps speed up and formalize data-wrangling and data validation tasks\n",
    "\n",
    "- pypi\n",
    "- sits on top of pytest or unittest\n",
    "- Test data pipeline components and end-to-end behavior\n",
    "\n",
    "**ipytest:**\n",
    "helper package - run tests inside jupyter notebook\n",
    "(labs coming)"
   ]
  },
  {
   "cell_type": "markdown",
   "metadata": {
    "slideshow": {
     "slide_type": "slide"
    }
   },
   "source": [
    "# 1- TDD for tidy data\n",
    "\n",
    "\n",
    "### datatest deets!\n",
    "\n",
    "- *core functions:*\n",
    "    1. validation\n",
    "    2. error reporting\n",
    "    3. acceptance declarations (data is dirty!)\n",
    "    <br><br>\n",
    "- built-in classes: selecting, querying, and iterating over data \n",
    "- both pytest & unittest styles\n",
    "- works with Pandas\n",
    "- useful for pipelines\n",
    "\n",
    "\n",
    "- https://github.com/shawnbrown/datatest\n",
    "- https://datatest.readthedocs.io/en/stable/index.html\n"
   ]
  },
  {
   "cell_type": "markdown",
   "metadata": {
    "ExecuteTime": {
     "end_time": "2019-07-22T16:38:35.880061Z",
     "start_time": "2019-07-22T16:38:35.874060Z"
    },
    "slideshow": {
     "slide_type": "subslide"
    }
   },
   "source": [
    "#### datatest - what does it do for you?\n",
    "\n",
    "- **validation:**  check that raw data meets requirements you specify\n",
    "    - columns exist\n",
    "    - values are in: specific set, range, types\n",
    "    - match order and sequences@specific index, mapping\n",
    "    - fuzzy\n",
    "\n",
    "- **compute differences** between inputs & test conditions\n",
    "\n",
    "- **acceptances** - based on differences\n",
    "    - tolerance - absolute\n",
    "    - tolerance - percentage\n",
    "    - fuzzy, others\n",
    "    - composable - construct acceptance criteria based on *intersection of lower-level datatest acceptances*\n",
    "\n",
    "- **all in a test framework**\n",
    "\n",
    "**[link: validate docs](https://datatest.readthedocs.io/en/stable/reference/datatest-core.html#datatest.validate)**"
   ]
  },
  {
   "cell_type": "markdown",
   "metadata": {
    "slideshow": {
     "slide_type": "subslide"
    }
   },
   "source": [
    "### Example 0 - datatest cases\n",
    "\n",
    "#### sources:\n",
    "-  https://datatest.readthedocs.io/en/stable/tutorial/dataframe.html\n",
    "<br><br>\n",
    "- https://github.com/moshez/interactive-unit-test/blob/master/unit_testing.ipynb"
   ]
  },
  {
   "cell_type": "code",
   "execution_count": null,
   "metadata": {
    "ExecuteTime": {
     "end_time": "2019-07-24T00:50:29.743675Z",
     "start_time": "2019-07-24T00:50:27.593666Z"
    },
    "scrolled": true,
    "slideshow": {
     "slide_type": "subslide"
    }
   },
   "outputs": [],
   "source": [
    "# setup - thank you Moshe!\n",
    "import unittest\n",
    "\n",
    "def test(klass):\n",
    "    loader = unittest.TestLoader()\n",
    "    # suite=loader.loadTestsFromTestCase(klass) # original\n",
    "    suite=loader.loadTestsFromModule(klass) # to work with datatest example\n",
    "    runner = unittest.TextTestRunner()\n",
    "    runner.run(suite)\n",
    "\n",
    "# other helpful setup\n",
    "# ipytest - https://github.com/chmp/ipytest\n",
    "import ipytest\n",
    "import ipytest.magics\n",
    "# enable pytest's assertions and ipytest's magics\n",
    "ipytest.config(rewrite_asserts=False, magics=True)\n",
    "\n",
    "\n",
    "# load datatest example\n",
    "import pandas as pd\n",
    "df = pd.read_csv(\"./data/test_datatest/movies.csv\")\n",
    "df.head(5)\n"
   ]
  },
  {
   "cell_type": "code",
   "execution_count": null,
   "metadata": {
    "ExecuteTime": {
     "end_time": "2019-07-24T00:50:39.149665Z",
     "start_time": "2019-07-24T00:50:39.081665Z"
    },
    "scrolled": false,
    "slideshow": {
     "slide_type": "subslide"
    }
   },
   "outputs": [],
   "source": [
    "# %load tests/test_01_datatest_movies_df_unit\n",
    "#!/usr/bin/env python\n",
    "import pandas as pd\n",
    "import datatest as dt\n",
    "import os\n",
    "\n",
    "\n",
    "def setUpModule():\n",
    "    global df\n",
    "    print(os.getcwd())\n",
    "    df = pd.read_csv('data/test_datatest/movies.csv')\n",
    "\n",
    "\n",
    "class TestMovies(dt.DataTestCase):\n",
    "    @dt.mandatory\n",
    "    def test_columns(self):\n",
    "        self.assertValid(\n",
    "            df.columns,\n",
    "            {'title', 'rating', 'year', 'runtime'},\n",
    "        )\n",
    "\n",
    "    def test_title(self):\n",
    "        self.assertValidRegex(df['title'], r'^[A-Z]')\n",
    "\n",
    "    def test_rating(self):\n",
    "        self.assertValidSuperset(\n",
    "            df['rating'],\n",
    "            {'G', 'PG', 'PG-13', 'R', 'NC-17'},\n",
    "        )\n",
    "\n",
    "    def test_year(self):\n",
    "        self.assertValid(df['year'], int)\n",
    "\n",
    "    def test_runtime(self):\n",
    "        self.assertValid(df['runtime'], int)\n",
    "\n",
    "test(TestMovies())\n"
   ]
  },
  {
   "cell_type": "code",
   "execution_count": null,
   "metadata": {
    "ExecuteTime": {
     "end_time": "2019-07-24T00:51:14.224667Z",
     "start_time": "2019-07-24T00:51:14.211665Z"
    },
    "slideshow": {
     "slide_type": "subslide"
    }
   },
   "outputs": [],
   "source": [
    "# what is going on with our original data?\n",
    "df_fixed = pd.read_csv('data/test_datatest/movies.csv')\n",
    "print(df_fixed.iloc[7:11, :])  #looks better w/print"
   ]
  },
  {
   "cell_type": "code",
   "execution_count": null,
   "metadata": {
    "ExecuteTime": {
     "end_time": "2019-07-24T00:51:28.416668Z",
     "start_time": "2019-07-24T00:51:28.403668Z"
    },
    "slideshow": {
     "slide_type": "subslide"
    }
   },
   "outputs": [],
   "source": [
    "# fix the bad data - through pipeline or manually\n",
    "df_fixed = pd.read_csv('data/test_datatest/movies_fixed.csv')\n",
    "print(df_fixed.iloc[7:11, :])"
   ]
  },
  {
   "cell_type": "code",
   "execution_count": null,
   "metadata": {
    "ExecuteTime": {
     "end_time": "2019-07-24T00:51:34.930666Z",
     "start_time": "2019-07-24T00:51:34.923665Z"
    },
    "slideshow": {
     "slide_type": "subslide"
    }
   },
   "outputs": [],
   "source": [
    "# clear existing test objects in jupyter notebook - similar to reset\n",
    "%reset_selective -f df \n",
    "%reset_selective -f TestMovies"
   ]
  },
  {
   "cell_type": "code",
   "execution_count": null,
   "metadata": {
    "ExecuteTime": {
     "end_time": "2019-07-24T00:51:38.732667Z",
     "start_time": "2019-07-24T00:51:38.703668Z"
    },
    "slideshow": {
     "slide_type": "subslide"
    }
   },
   "outputs": [],
   "source": [
    "# fixed data - rerun tests\n",
    "def setUpModule():\n",
    "    global df\n",
    "    print(os.getcwd())\n",
    "    df = pd.read_csv('data/test_datatest/movies_fixed.csv')  # note new source\n",
    "\n",
    "\n",
    "class TestMovies(dt.DataTestCase):\n",
    "    @dt.mandatory\n",
    "    def test_columns(self):\n",
    "        self.assertValid(\n",
    "            df.columns,\n",
    "            {'title', 'rating', 'year', 'runtime'},\n",
    "        )\n",
    "\n",
    "    def test_title(self):\n",
    "        self.assertValidRegex(df['title'], r'^[A-Z]')\n",
    "\n",
    "    def test_rating(self):\n",
    "        self.assertValidSuperset(\n",
    "            df['rating'],\n",
    "            {'G', 'PG', 'PG-13', 'R', 'NC-17'},\n",
    "        )\n",
    "\n",
    "    def test_year(self):\n",
    "        self.assertValid(df['year'], int)\n",
    "\n",
    "    def test_runtime(self):\n",
    "        self.assertValid(df['runtime'], int)\n",
    "\n",
    "test(TestMovies())"
   ]
  },
  {
   "cell_type": "markdown",
   "metadata": {
    "slideshow": {
     "slide_type": "slide"
    }
   },
   "source": [
    "# 2 - TDD for data engineering\n",
    "\n",
    "\n",
    "### Example 1 - finding urls in excel\n",
    "\n",
    "- url test case\n",
    "- multiple url test case which breaks prior tests\n",
    "- regex101.com illustration (edit function to make tests pass)\n",
    "  https://regex101.com/\n",
    "- final regex to rule them all\n",
    "\n",
    "\n"
   ]
  },
  {
   "cell_type": "markdown",
   "metadata": {
    "slideshow": {
     "slide_type": "subslide"
    }
   },
   "source": [
    "#### Sample data (under /data/test_cais) - needs transformation\n",
    "\n",
    "|example 1 |~ |example 2 |\n",
    "|:--- |:--- |:---|\n",
    "| <img src=\"data/images/excel_sample2013.png\" alt=\"excel example 1\" style=\"height: 900px;\"> | ...|<img src=\"data/images/excel_sample2018.png\" alt=\"excel example 2\" style=\"height: 900px;\"> |\n",
    "    "
   ]
  },
  {
   "cell_type": "code",
   "execution_count": null,
   "metadata": {
    "ExecuteTime": {
     "end_time": "2019-07-24T00:54:03.751932Z",
     "start_time": "2019-07-24T00:54:03.707933Z"
    },
    "slideshow": {
     "slide_type": "subslide"
    }
   },
   "outputs": [],
   "source": [
    "# %load tests/test_02_cais_find_single_url\n",
    "\"\"\"\n",
    "test functions to find url in cell content from an excel worksheet\n",
    "\n",
    "functions below have \"do_this_later_\" prefix to prevent tests from running during early part of talk\n",
    "remove prefix as we walk through examples, and re-run tests\n",
    "\"\"\"\n",
    "from src.excel_find_url import find_url\n",
    "\n",
    "\n",
    "def test_find_single_url():\n",
    "    \"\"\"\n",
    "    unit test to find url in a single text string\n",
    "    :return: None\n",
    "    \"\"\"\n",
    "    # the find_url function we are testing takes cell content as a string, and current results dict\n",
    "    # pass an empty results dict, so no existing value is found\n",
    "    result = {}\n",
    "\n",
    "    # inputs we expect to pass\n",
    "    input01 = \"Coeducational Boarding/Day School Grades 6-12; Enrollment 350 www.prioryca.org\"\n",
    "\n",
    "    # declare result we expect to find here\n",
    "    assert find_url(input01, result) == \"www.prioryca.org\"\n"
   ]
  },
  {
   "cell_type": "code",
   "execution_count": null,
   "metadata": {
    "ExecuteTime": {
     "end_time": "2019-07-24T00:54:16.480934Z",
     "start_time": "2019-07-24T00:54:16.472938Z"
    },
    "slideshow": {
     "slide_type": "subslide"
    }
   },
   "outputs": [],
   "source": [
    "# %load src/excel_find_url.py\n",
    "# %load src/excel_find_url.py\n",
    "# %%writefile src/excel_find_url.py\n",
    "\n",
    "\n",
    "import re\n",
    "from src.excel_read_cell_info import check_if_already_found\n",
    "\n",
    "def find_url(content, result):\n",
    "    \"\"\"\n",
    "    finds url of school if it exists in cell\n",
    "    :param content: cell content from spreadsheet\n",
    "    :type content: string\n",
    "    :param result: dict of details on current school\n",
    "    :type result: dict\n",
    "    :return: url\n",
    "    :rtype: basestring\n",
    "    \"\"\"\n",
    "    if check_if_already_found(\"url\", result):\n",
    "        return result['url']\n",
    "\n",
    "        # different regex to use during python talk\n",
    "        # https://regex101.com\n",
    "\n",
    "    # regex = re.compile(r\"w{3}.*\", re.IGNORECASE)\n",
    "    # regex = re.compile(r\"(http|https):\\/\\/.*\", re.IGNORECASE)  # EDIT THIS LIVE\n",
    "\n",
    "    regex = re.compile(\n",
    "    r\"((http|https):\\/\\/)?[a-zA-Z0-9.\\/?::-_=#]+\\.([a-zA-Z]){2,6}([a-zA-Z0-9..\\/&\\/\\-_=#])*\",\n",
    "    re.IGNORECASE)\n",
    "\n",
    "    try:\n",
    "        match = re.search(regex,\n",
    "                          str(content))\n",
    "    except TypeError:\n",
    "        raise TypeError\n",
    "\n",
    "    if match:\n",
    "        url = str(match.group()).strip()\n",
    "        return url\n",
    "    else:\n",
    "        return None\n"
   ]
  },
  {
   "cell_type": "code",
   "execution_count": null,
   "metadata": {
    "ExecuteTime": {
     "end_time": "2019-07-24T00:54:21.456935Z",
     "start_time": "2019-07-24T00:54:21.399935Z"
    },
    "slideshow": {
     "slide_type": "subslide"
    }
   },
   "outputs": [],
   "source": [
    "%ls \"tests/\""
   ]
  },
  {
   "cell_type": "code",
   "execution_count": null,
   "metadata": {
    "ExecuteTime": {
     "end_time": "2019-07-24T00:54:25.820933Z",
     "start_time": "2019-07-24T00:54:25.054932Z"
    },
    "scrolled": false,
    "slideshow": {
     "slide_type": "subslide"
    }
   },
   "outputs": [],
   "source": [
    "test02 = \"tests/test_02_cais_find_single_url.py\"\n",
    "\n",
    "__file__  = test02\n",
    "\n",
    "ipytest.clean_tests()\n",
    "ipytest.config.addopts=['-v']\n",
    "# ['-k test_03_cais_find_https_url.py']\n",
    "\n",
    "ipytest.run()"
   ]
  },
  {
   "cell_type": "code",
   "execution_count": null,
   "metadata": {
    "ExecuteTime": {
     "end_time": "2019-07-24T00:54:30.300933Z",
     "start_time": "2019-07-24T00:54:30.294931Z"
    },
    "slideshow": {
     "slide_type": "subslide"
    }
   },
   "outputs": [],
   "source": [
    "# %load tests/test_03_cais_find_https_url.py\n",
    "\"\"\"\n",
    "test functions to find url in cell content from an excel worksheet\n",
    "\n",
    "functions below have \"do_this_later_\" prefix to prevent tests from running during early part of talk\n",
    "remove prefix as we walk through examples, and re-run tests\n",
    "\"\"\"\n",
    "from src.excel_find_url import find_url\n",
    "\n",
    "\n",
    "def test_find_https_url():\n",
    "    \"\"\"\n",
    "    unit test multiple strings for urls in bulk - rather than separate test functions for each\n",
    "    one way to rapidly iterate on your code, nicely encapsulates similar cases\n",
    "\n",
    "    requires editing REGEX in excel_read_cell_info.find_url to make this test pass\n",
    "    \"\"\"\n",
    "    result = {}\n",
    "\n",
    "    # inputs we expect to pass\n",
    "    input01 = \"Coed Boarding/Day School Grades 6-12; Enrollment 350 http://www.prioryca.org\"\n",
    "    input02 = \"https://windwardschool.org\"\n",
    "\n",
    "    assert find_url(input01, result) == \"http://www.prioryca.org\"\n",
    "    assert find_url(input02, result) == \"https://windwardschool.org\"\n"
   ]
  },
  {
   "cell_type": "code",
   "execution_count": null,
   "metadata": {
    "ExecuteTime": {
     "end_time": "2019-07-24T00:54:34.469276Z",
     "start_time": "2019-07-24T00:54:34.457277Z"
    },
    "slideshow": {
     "slide_type": "subslide"
    }
   },
   "outputs": [],
   "source": [
    "# %load src/excel_find_url.py\n",
    "# %load src/excel_find_url.py\n",
    "# %%writefile src/excel_find_url.py\n",
    "\n",
    "\n",
    "import re\n",
    "from src.excel_read_cell_info import check_if_already_found\n",
    "\n",
    "def find_url(content, result):\n",
    "    \"\"\"\n",
    "    finds url of school if it exists in cell\n",
    "    :param content: cell content from spreadsheet\n",
    "    :type content: string\n",
    "    :param result: dict of details on current school\n",
    "    :type result: dict\n",
    "    :return: url\n",
    "    :rtype: basestring\n",
    "    \"\"\"\n",
    "    if check_if_already_found(\"url\", result):\n",
    "        return result['url']\n",
    "\n",
    "        # different regex to use during python talk\n",
    "        # https://regex101.com\n",
    "\n",
    "    # regex = re.compile(r\"w{3}.*\", re.IGNORECASE)\n",
    "    # regex = re.compile(r\"(http|https):\\/\\/.*\", re.IGNORECASE)  # EDIT THIS LIVE\n",
    "\n",
    "    regex = re.compile(\n",
    "    r\"((http|https):\\/\\/)?[a-zA-Z0-9.\\/?::-_=#]+\\.([a-zA-Z]){2,6}([a-zA-Z0-9..\\/&\\/\\-_=#])*\",\n",
    "    re.IGNORECASE)\n",
    "\n",
    "    try:\n",
    "        match = re.search(regex,\n",
    "                          str(content))\n",
    "    except TypeError:\n",
    "        raise TypeError\n",
    "\n",
    "    if match:\n",
    "        url = str(match.group()).strip()\n",
    "        return url\n",
    "    else:\n",
    "        return None\n",
    "### Switch to PyCharm"
   ]
  },
  {
   "cell_type": "markdown",
   "metadata": {
    "slideshow": {
     "slide_type": "subslide"
    }
   },
   "source": [
    "### [regex101](https://regex101.com)\n",
    "\n",
    "    w{3}.*\n",
    "\n",
    "    (http|https):\\/\\/.*\n",
    "\n",
    "    ((http|https):\\/\\/)?[a-zA-Z0-9.\\/?::-_=#]+\\.([a-zA-Z]){2,6}([a-zA-Z0-9..\\/&\\/\\-_=#])*\n",
    "    \n",
    "    www.prioryca.org\n",
    "    http://www.prioryca.org\n",
    "    https://prioryca.org\n",
    "\n",
    "\n",
    "### Switch to PyCharm"
   ]
  },
  {
   "cell_type": "markdown",
   "metadata": {
    "slideshow": {
     "slide_type": "subslide"
    }
   },
   "source": [
    "### Example 2 - finding names & use of supplementary data summaries\n",
    "\n",
    "- use of expected results file bundled with data as pytest input\n",
    "- structured discovery of edge cases\n",
    "\n",
    "- **objective:** find school names in messy excel document\n",
    "- **strategy:** find names by finding specific formats - removing stopwords & addresses\n",
    "- **test goals:** confirm code finds same # of names as we do manually\n",
    "- **test approach:** summarize names manually in new tab, *then test code results vs. manual results*\n"
   ]
  },
  {
   "cell_type": "markdown",
   "metadata": {
    "slideshow": {
     "slide_type": "subslide"
    }
   },
   "source": [
    "#### Recall our data (under /data/test_cais) - needs transformation\n",
    "\n",
    "|example 1 |~ |example 2 |\n",
    "|:--- |:--- |:---|\n",
    "| <img src=\"data/images/excel_sample2013.png\" alt=\"excel example 1\" style=\"height: 900px;\"> | ...|<img src=\"data/images/excel_sample2018.png\" alt=\"excel example 2\" style=\"height: 900px;\"> |"
   ]
  },
  {
   "cell_type": "markdown",
   "metadata": {
    "slideshow": {
     "slide_type": "subslide"
    }
   },
   "source": [
    "#### Review input files (/data/test_cais)\n",
    "<br><br>\n",
    "<img src=\"data/images/excel_summarize_expected_results.png\" alt=\"excel example 1\" style=\"height: 900px;\">"
   ]
  },
  {
   "cell_type": "code",
   "execution_count": null,
   "metadata": {
    "slideshow": {
     "slide_type": "subslide"
    }
   },
   "outputs": [],
   "source": [
    "\"\"\"\n",
    "tests focused on ability to pull all the names from a cais excel file\n",
    "\"\"\"\n",
    "\n",
    "def test_find_2013_cais_name_table10():\n",
    "    \"\"\"\n",
    "    test finding names in first member schools tab\n",
    "    test function to dynamically look up names vs. expected result from separate file\n",
    "    :return: True or False\n",
    "    \"\"\"\n",
    "    test_file = \"School_Directory_2013-2014-converted.xlsx\"\n",
    "    results_file = \"cais_name_counts_manual_2013-2014.xlsx\"\n",
    "    table_num = 10\n",
    "\n",
    "    found_in_table_10, expected_in_table_10 = common_search(test_file, results_file, table_num)\n",
    "\n",
    "    assert found_in_table_10 == expected_in_table_10\n"
   ]
  },
  {
   "cell_type": "markdown",
   "metadata": {
    "slideshow": {
     "slide_type": "subslide"
    }
   },
   "source": [
    "#### Data Driven transformation accuracy (/data/test_cais)\n",
    "<br><br>\n",
    "<img src=\"data/images/test_results.excel_table_accuracy.png\" alt=\"dynamic input testing\">"
   ]
  },
  {
   "cell_type": "markdown",
   "metadata": {
    "slideshow": {
     "slide_type": "slide"
    }
   },
   "source": [
    "\n",
    "# 3 - When not to use TDD for data?\n",
    "\n",
    "- EDA\n",
    "- quick prototypes\n",
    "- data source is complete & managed\n",
    "- cost / time >> benefits\n"
   ]
  },
  {
   "cell_type": "markdown",
   "metadata": {
    "slideshow": {
     "slide_type": "slide"
    }
   },
   "source": [
    "# 4 - Resources\n",
    "\n",
    "**this talk:**  https://github.com/surfaceowl/pythontalk_tdd_for_data\n",
    "<br><br>\n",
    "**pytest**\n",
    "\n",
    "[pytest on pypi](https://pypi.org/project/pytest/)  [pytest docs](https://docs.pytest.org/en/latest/)\n",
    "<br><br>\n",
    "**ipytest**\n",
    "\n",
    "[ipytest pypi](https://pypi.org/project/ipytest/) [ipytest github](https://github.com/chmp/ipytest)\n",
    "<br><br>\n",
    "**datatest**\n",
    "\n",
    "[datatest on pypi](https://pypi.org/project/datatest/)    [github](https://github.com/shawnbrown/datatest)    [docs](https://datatest.readthedocs.io/en/stable/)\n",
    "\n",
    "**TDD for data**\n",
    "\n",
    "[towards data science article](https://towardsdatascience.com/tdd-datascience-689c98492fcc)\n"
   ]
  },
  {
   "cell_type": "markdown",
   "metadata": {
    "slideshow": {
     "slide_type": "slide"
    }
   },
   "source": [
    "# Recap: Our Objectives\n",
    "\n",
    "- Intro TDD (Test Driven Development)\n",
    "- Learned about pytest & datatest \n",
    "- Saw testing in action for:\n",
    "  1. tidy data\n",
    "  2. transformation / data engineering\n",
    "- Understand When not to use TDD\n",
    "- Have links to Resources"
   ]
  },
  {
   "cell_type": "markdown",
   "metadata": {
    "slideshow": {
     "slide_type": "slide"
    }
   },
   "source": [
    "# END"
   ]
  },
  {
   "cell_type": "markdown",
   "metadata": {
    "slideshow": {
     "slide_type": "skip"
    }
   },
   "source": [
    "### setup notes\n",
    "\n",
    "venv, then pip install -r requirements.txt\n",
    "pip install -e .\n",
    "\n",
    "run pytest from terminal - must be in tests dir\n",
    "\n",
    "pycharm setup -- set test runner to pytest\n",
    "\n",
    "\n",
    "### resources\n",
    "\n",
    "https://nbviewer.jupyter.org/github/agostontorok/tdd_data_analysis/blob/master/TDD%20in%20data%20analysis%20-%20Step-by-step%20tutorial.ipynb#Step-by-step-TDD-in-a-data-science-task\n",
    "\n",
    "http://www.tdda.info/\n",
    "\n",
    "fix pytest Module not found\n",
    "https://medium.com/@dirk.avery/pytest-modulenotfounderror-no-module-named-requests-a770e6926ac5\n",
    "\n",
    "\n",
    "#### regex\n",
    "https://regex101.com/\n"
   ]
  },
  {
   "cell_type": "code",
   "execution_count": null,
   "metadata": {
    "slideshow": {
     "slide_type": "skip"
    }
   },
   "outputs": [],
   "source": [
    "# Notes\n",
    "# writefile must be in first line\n",
    "# %%writefile src/excel_find_url.py\n",
    "\n",
    "# javascript commands to set var -- must be in separate cell\n",
    "%%javascript\n",
    "IPython.notebook.kernel.execute('nb_name = \"' + IPython.notebook.notebook_name + '\"')"
   ]
  },
  {
   "cell_type": "code",
   "execution_count": null,
   "metadata": {
    "slideshow": {
     "slide_type": "skip"
    }
   },
   "outputs": [],
   "source": [
    "import ipytest\n",
    "import ipytest.magics\n",
    "ipytest.config(rewrite_asserts=True, magics=True)\n",
    "\n",
    "# __file__ = \"INSERT YOUR NOTEBOOK FILENAME HERE\"\n",
    "__file__ = nb_name"
   ]
  },
  {
   "cell_type": "code",
   "execution_count": null,
   "metadata": {
    "slideshow": {
     "slide_type": "skip"
    }
   },
   "outputs": [],
   "source": [
    "# ipytest usage\n",
    "# https://github.com/chmp/ipytest/blob/master/Example.ipynb\n",
    "\n",
    "# %%run_pytest[clean] -qq\n",
    "ipytest.clean_tests()\n",
    "ipytest.run('-qq')"
   ]
  },
  {
   "cell_type": "code",
   "execution_count": null,
   "metadata": {
    "slideshow": {
     "slide_type": "skip"
    }
   },
   "outputs": [],
   "source": [
    "%%javascript\n",
    "IPython.notebook.kernel.execute('nb_name = \"' + IPython.notebook.notebook_name + '\"')\n",
    "IPython.notebook.kernel.execute('test00 = \"' + \"tests/test_00_simple_pytest_example.py\" + '\"')\n",
    "IPython.notebook.kernel.execute('test01 = \"' + \"tests/test_01_datatest_movies_df_unit.py\" + '\"')\n",
    "IPython.notebook.kernel.execute('test02 = \"' + \"tests/test_02_cais_find_single_url.py\" + '\"')\n",
    "IPython.notebook.kernel.execute('test03 = \"' + \"tests/test_03_cais_find_https_url.py\" + '\"')\n",
    "IPython.notebook.kernel.execute('test04 = \"' + \"tests/test_04_cais_find_multi_url.py\" + '\"')\n",
    "IPython.notebook.kernel.execute('test05 = \"' + \"tests/test_05_cais_name_count_2013.py\" + '\"')\n",
    "IPython.notebook.kernel.execute('test06 = \"' + \"tests/test_06_cais_name_count_2018.py\" + '\"')"
   ]
  }
 ],
 "metadata": {
  "celltoolbar": "Slideshow",
  "kernelspec": {
   "display_name": "Python 3",
   "language": "python",
   "name": "python3"
  },
  "language_info": {
   "codemirror_mode": {
    "name": "ipython",
    "version": 3
   },
   "file_extension": ".py",
   "mimetype": "text/x-python",
   "name": "python",
   "nbconvert_exporter": "python",
   "pygments_lexer": "ipython3",
   "version": "3.7.3"
  },
  "toc": {
   "base_numbering": 1,
   "nav_menu": {},
   "number_sections": false,
   "sideBar": true,
   "skip_h1_title": false,
   "title_cell": "Table of Contents",
   "title_sidebar": "Contents",
   "toc_cell": true,
   "toc_position": {
    "height": "calc(100% - 180px)",
    "left": "10px",
    "top": "150px",
    "width": "165px"
   },
   "toc_section_display": true,
   "toc_window_display": false
  },
  "varInspector": {
   "cols": {
    "lenName": 16,
    "lenType": 16,
    "lenVar": 40
   },
   "kernels_config": {
    "python": {
     "delete_cmd_postfix": "",
     "delete_cmd_prefix": "del ",
     "library": "var_list.py",
     "varRefreshCmd": "print(var_dic_list())"
    },
    "r": {
     "delete_cmd_postfix": ") ",
     "delete_cmd_prefix": "rm(",
     "library": "var_list.r",
     "varRefreshCmd": "cat(var_dic_list()) "
    }
   },
   "types_to_exclude": [
    "module",
    "function",
    "builtin_function_or_method",
    "instance",
    "_Feature"
   ],
   "window_display": false
  }
 },
 "nbformat": 4,
 "nbformat_minor": 2
}
